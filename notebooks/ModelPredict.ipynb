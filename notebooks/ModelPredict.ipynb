{
 "cells": [
  {
   "cell_type": "code",
   "execution_count": null,
   "metadata": {},
   "outputs": [],
   "source": [
    "# Load the \"autoreload\" extension. Prior to executing code, modules are reloaded. \n",
    "# There's no need to restart jupyter notebook if you modify code in the `src` directory.\n",
    "# https://ipython.org/ipython-doc/3/config/extensions/autoreload.html\n",
    "%load_ext autoreload\n",
    "\n",
    "# OPTIONAL: always reload modules so that as you change code in src, it gets loaded\n",
    "%autoreload 2\n"
   ]
  },
  {
   "cell_type": "code",
   "execution_count": null,
   "metadata": {},
   "outputs": [],
   "source": [
    "import whisk\n",
    "from bike_image_classifier_tensorflow.models.model import Model\n",
    "\n",
    "\n",
    "import json"
   ]
  },
  {
   "cell_type": "code",
   "execution_count": null,
   "metadata": {},
   "outputs": [],
   "source": [
    "Model().predict([whisk.data_dir / 'raw/Examples/full_2020_grail-al-7-0_2370_sr-bk_P5.png'])\n"
   ]
  },
  {
   "cell_type": "code",
   "execution_count": null,
   "metadata": {},
   "outputs": [],
   "source": [
    "Model().predict([whisk.data_dir / 'raw/Examples/full_2020_strive-cf-7-0_2239_tm_P5.png'])\n",
    "                 "
   ]
  },
  {
   "cell_type": "code",
   "execution_count": null,
   "metadata": {},
   "outputs": [],
   "source": [
    "Model().predict([whisk.data_dir / 'raw/Examples/Marin-Nicasio-plus-outside.jpg'])\n",
    "                 "
   ]
  },
  {
   "cell_type": "code",
   "execution_count": null,
   "metadata": {},
   "outputs": [],
   "source": [
    "Model().predict([whisk.data_dir / 'raw/Examples/PUBLIC-R24-Road-Bike-Cream_010_720x.jpg'])\n"
   ]
  },
  {
   "cell_type": "code",
   "execution_count": null,
   "metadata": {},
   "outputs": [],
   "source": [
    "Model().predict([whisk.data_dir / 'raw/Examples/Marlin5_19_23134_A_Primary.jpeg'])\n"
   ]
  },
  {
   "cell_type": "code",
   "execution_count": null,
   "metadata": {},
   "outputs": [],
   "source": [
    "Model().predict(['https://whisk-examples.s3.amazonaws.com/bike-images/full_2020_strive-cf-7-0_2239_tm_P5.png'])\n"
   ]
  }
 ],
 "metadata": {
  "kernelspec": {
   "display_name": "bike_image_classifier_tensorflow",
   "language": "python",
   "name": "bike_image_classifier_tensorflow"
  },
  "language_info": {
   "codemirror_mode": {
    "name": "ipython",
    "version": 3
   },
   "file_extension": ".py",
   "mimetype": "text/x-python",
   "name": "python",
   "nbconvert_exporter": "python",
   "pygments_lexer": "ipython3",
   "version": "3.8.2"
  }
 },
 "nbformat": 4,
 "nbformat_minor": 4
}
