{
 "cells": [
  {
   "cell_type": "code",
   "execution_count": null,
   "metadata": {},
   "outputs": [],
   "source": [
    "# Load the \"autoreload\" extension. Prior to executing code, modules are reloaded. \n",
    "# There's no need to restart jupyter notebook if you modify code in the `src` directory.\n",
    "# https://ipython.org/ipython-doc/3/config/extensions/autoreload.html\n",
    "%load_ext autoreload\n",
    "\n",
    "# OPTIONAL: always reload modules so that as you change code in src, it gets loaded\n",
    "%autoreload 2\n",
    "\n",
    "from bike_image_classifier_tensorflow.data.extract_bike_data import *\n",
    "import pandas as pd\n",
    "import requests\n",
    "import urllib\n",
    "import ast\n",
    "from random import randint\n",
    "from time import sleep\n",
    "import pickle\n",
    "import urllib.request\n",
    "import urllib.error\n",
    "import os"
   ]
  },
  {
   "cell_type": "code",
   "execution_count": null,
   "metadata": {},
   "outputs": [],
   "source": [
    "\n",
    "# Extract bike lists from BBB API\n",
    "\n",
    "bicycle_blue_book_search = 'https://api.bicyclebluebook.com/core/api/bicycles/brand/year/model?yearId={year}&page={page}'\n",
    "extracted_bbb_2018 = extract_bbb_data(2018, 1, 2, bicycle_blue_book_search)"
   ]
  },
  {
   "cell_type": "code",
   "execution_count": null,
   "metadata": {},
   "outputs": [],
   "source": [
    "# Create bike type folders\n",
    "\n",
    "converted_type_set = set()\n",
    "for bike_type in list(extracted_bbb_2018.typeName.unique()):\n",
    "    converted_type_set.add(extract_data.bike_type_converter(bike_type))\n",
    "    \n",
    "for bike_type_directory in list(converted_type_set):\n",
    "    path = '../data/raw/{}'\n",
    "    os.mkdir(path.format(bike_type_directory))"
   ]
  },
  {
   "cell_type": "code",
   "execution_count": null,
   "metadata": {},
   "outputs": [],
   "source": [
    "# Extract images\n",
    "\n",
    "iterate_df = extracted_bbb_2018[['bicycleId','typeName','imageDefault']]\n",
    "\n",
    "for i, row in enumerate(iterate_df.itertuples()):\n",
    "    if pd.isna(row.imageDefault):\n",
    "        print(i, 'Skipping')\n",
    "        continue\n",
    "    path = '../data/raw/{}/{}.png'\n",
    "    adjusted_type=bike_type_converter(row.typeName)\n",
    "    structured_path = path.format(adjusted_type, row.bicycleId)\n",
    "    try:\n",
    "        urllib.request.urlretrieve(row.imageDefault, structured_path)\n",
    "    except urllib.error.HTTPError:\n",
    "        print(i, 'Access Denied')\n",
    "    print(i, structured_path)"
   ]
  }
 ],
 "metadata": {
  "kernelspec": {
   "display_name": "bike_image_classifier_tensorflow",
   "language": "python",
   "name": "bike_image_classifier_tensorflow"
  },
  "language_info": {
   "codemirror_mode": {
    "name": "ipython",
    "version": 3
   },
   "file_extension": ".py",
   "mimetype": "text/x-python",
   "name": "python",
   "nbconvert_exporter": "python",
   "pygments_lexer": "ipython3",
   "version": "3.8.2"
  }
 },
 "nbformat": 4,
 "nbformat_minor": 4
}
